{
 "cells": [
  {
   "cell_type": "code",
   "execution_count": 1,
   "metadata": {},
   "outputs": [
    {
     "name": "stdout",
     "output_type": "stream",
     "text": [
      "MONAI version: 1.4.0\n",
      "MONAI path: /opt/anaconda3/envs/cvproj310/lib/python3.10/site-packages/monai/__init__.py\n"
     ]
    },
    {
     "ename": "ImportError",
     "evalue": "cannot import name 'EnsureChannelDim' from 'monai.transforms' (/opt/anaconda3/envs/cvproj310/lib/python3.10/site-packages/monai/transforms/__init__.py)",
     "output_type": "error",
     "traceback": [
      "\u001b[0;31m---------------------------------------------------------------------------\u001b[0m",
      "\u001b[0;31mImportError\u001b[0m                               Traceback (most recent call last)",
      "Cell \u001b[0;32mIn[1], line 4\u001b[0m\n\u001b[1;32m      2\u001b[0m \u001b[38;5;28mprint\u001b[39m(\u001b[38;5;124m\"\u001b[39m\u001b[38;5;124mMONAI version:\u001b[39m\u001b[38;5;124m\"\u001b[39m, monai\u001b[38;5;241m.\u001b[39m__version__)\n\u001b[1;32m      3\u001b[0m \u001b[38;5;28mprint\u001b[39m(\u001b[38;5;124m\"\u001b[39m\u001b[38;5;124mMONAI path:\u001b[39m\u001b[38;5;124m\"\u001b[39m, monai\u001b[38;5;241m.\u001b[39m\u001b[38;5;18m__file__\u001b[39m)\n\u001b[0;32m----> 4\u001b[0m \u001b[38;5;28;01mfrom\u001b[39;00m\u001b[38;5;250m \u001b[39m\u001b[38;5;21;01mmonai\u001b[39;00m\u001b[38;5;21;01m.\u001b[39;00m\u001b[38;5;21;01mtransforms\u001b[39;00m\u001b[38;5;250m \u001b[39m\u001b[38;5;28;01mimport\u001b[39;00m EnsureChannelDim\n\u001b[1;32m      5\u001b[0m \u001b[38;5;28mprint\u001b[39m(\u001b[38;5;124m\"\u001b[39m\u001b[38;5;124mEnsureChannelDim imported OK\u001b[39m\u001b[38;5;124m\"\u001b[39m)\n",
      "\u001b[0;31mImportError\u001b[0m: cannot import name 'EnsureChannelDim' from 'monai.transforms' (/opt/anaconda3/envs/cvproj310/lib/python3.10/site-packages/monai/transforms/__init__.py)"
     ]
    }
   ],
   "source": [
    "import monai\n",
    "print(\"MONAI version:\", monai.__version__)\n",
    "print(\"MONAI path:\", monai.__file__)\n",
    "from monai.transforms import EnsureChannelDim\n",
    "print(\"EnsureChannelDim imported OK\")\n"
   ]
  },
  {
   "cell_type": "code",
   "execution_count": 2,
   "metadata": {},
   "outputs": [
    {
     "name": "stdout",
     "output_type": "stream",
     "text": [
      "['Activations', 'ActivationsD', 'ActivationsDict', 'Activationsd', 'AddCoordinateChannels', 'AddCoordinateChannelsD', 'AddCoordinateChannelsDict', 'AddCoordinateChannelsd', 'AddExtremePointsChannel', 'AddExtremePointsChannelD', 'AddExtremePointsChannelDict', 'AddExtremePointsChanneld', 'AdjustContrast', 'AdjustContrastD', 'AdjustContrastDict', 'AdjustContrastd', 'Affine', 'AffineD', 'AffineDict', 'AffineGrid', 'Affined', 'ApplyPending', 'ApplyPendingD', 'ApplyPendingDict', 'ApplyPendingd', 'ApplyTransformToPoints', 'ApplyTransformToPointsD', 'ApplyTransformToPointsDict', 'ApplyTransformToPointsd', 'AsChannelLast', 'AsChannelLastD', 'AsChannelLastDict', 'AsChannelLastd', 'AsDiscrete', 'AsDiscreteD', 'AsDiscreteDict', 'AsDiscreted', 'BatchInverseTransform', 'BorderPad', 'BorderPadD', 'BorderPadDict', 'BorderPadd', 'BoundingRect', 'BoundingRectD', 'BoundingRectDict', 'BoundingRectd', 'CastToType', 'CastToTypeD', 'CastToTypeDict', 'CastToTyped', 'CenterScaleCrop', 'CenterScaleCropD', 'CenterScaleCropDict', 'CenterScaleCropd', 'CenterSpatialCrop', 'CenterSpatialCropD', 'CenterSpatialCropDict', 'CenterSpatialCropd', 'ClassesToIndices', 'ClassesToIndicesD', 'ClassesToIndicesDict', 'ClassesToIndicesd', 'ClipIntensityPercentiles', 'ClipIntensityPercentilesD', 'ClipIntensityPercentilesDict', 'ClipIntensityPercentilesd', 'Compose', 'ComputeHoVerMaps', 'ComputeHoVerMapsD', 'ComputeHoVerMapsDict', 'ComputeHoVerMapsd', 'ConcatItemsD', 'ConcatItemsDict', 'ConcatItemsd', 'ConvertBoxToPoints', 'ConvertBoxToPointsD', 'ConvertBoxToPointsDict', 'ConvertBoxToPointsd', 'ConvertPointsToBoxes', 'ConvertPointsToBoxesD', 'ConvertPointsToBoxesDict', 'ConvertPointsToBoxesd', 'ConvertToMultiChannelBasedOnBratsClasses', 'ConvertToMultiChannelBasedOnBratsClassesD', 'ConvertToMultiChannelBasedOnBratsClassesDict', 'ConvertToMultiChannelBasedOnBratsClassesd', 'CopyItemsD', 'CopyItemsDict', 'CopyItemsd', 'Crop', 'CropD', 'CropDict', 'CropForeground', 'CropForegroundD', 'CropForegroundDict', 'CropForegroundd', 'Cropd', 'CuCIM', 'CuCIMD', 'CuCIMDict', 'CuCIMd', 'CutMix', 'CutMixD', 'CutMixDict', 'CutMixd', 'CutOut', 'CutOutD', 'CutOutDict', 'CutOutd', 'DataStats', 'DataStatsD', 'DataStatsDict', 'DataStatsd', 'DecollateD', 'DecollateDict', 'Decollated', 'DeleteItemsD', 'DeleteItemsDict', 'DeleteItemsd', 'DetectEnvelope', 'DistanceTransformEDT', 'DistanceTransformEDTD', 'DistanceTransformEDTDict', 'DistanceTransformEDTd', 'DivisiblePad', 'DivisiblePadD', 'DivisiblePadDict', 'DivisiblePadd', 'EnsembleD', 'EnsembleDict', 'Ensembled', 'EnsureChannelFirst', 'EnsureChannelFirstD', 'EnsureChannelFirstDict', 'EnsureChannelFirstd', 'EnsureType', 'EnsureTypeD', 'EnsureTypeDict', 'EnsureTyped', 'FgBgToIndices', 'FgBgToIndicesD', 'FgBgToIndicesDict', 'FgBgToIndicesd', 'FillHoles', 'FillHolesD', 'FillHolesDict', 'FillHolesd', 'FlattenSubKeysD', 'FlattenSubKeysDict', 'FlattenSubKeysd', 'Flip', 'FlipD', 'FlipDict', 'Flipd', 'ForegroundMask', 'ForegroundMaskD', 'ForegroundMaskDict', 'ForegroundMaskd', 'Fourier', 'FromMetaTensorD', 'FromMetaTensorDict', 'FromMetaTensord', 'FunctionSignature', 'GaussianSharpen', 'GaussianSharpenD', 'GaussianSharpenDict', 'GaussianSharpend', 'GaussianSmooth', 'GaussianSmoothD', 'GaussianSmoothDict', 'GaussianSmoothd', 'GibbsNoise', 'GibbsNoiseD', 'GibbsNoiseDict', 'GibbsNoised', 'GridDistortion', 'GridDistortionD', 'GridDistortionDict', 'GridDistortiond', 'GridPatch', 'GridPatchD', 'GridPatchDict', 'GridPatchd', 'GridSplit', 'GridSplitD', 'GridSplitDict', 'GridSplitd', 'HistogramNormalize', 'HistogramNormalizeD', 'HistogramNormalizeDict', 'HistogramNormalized', 'Identity', 'IdentityD', 'IdentityDict', 'Identityd', 'ImageFilter', 'ImageFilterD', 'ImageFilterDict', 'ImageFilterd', 'IntensityRemap', 'IntensityStats', 'IntensityStatsD', 'IntensityStatsDict', 'IntensityStatsd', 'Invert', 'InvertD', 'InvertDict', 'Invertd', 'InvertibleTransform', 'KSpaceSpikeNoise', 'KSpaceSpikeNoiseD', 'KSpaceSpikeNoiseDict', 'KSpaceSpikeNoised', 'KeepLargestConnectedComponent', 'KeepLargestConnectedComponentD', 'KeepLargestConnectedComponentDict', 'KeepLargestConnectedComponentd', 'LabelFilter', 'LabelFilterD', 'LabelFilterDict', 'LabelFilterd', 'LabelToContour', 'LabelToContourD', 'LabelToContourDict', 'LabelToContourd', 'LabelToMask', 'LabelToMaskD', 'LabelToMaskDict', 'LabelToMaskd', 'Lambda', 'LambdaD', 'LambdaDict', 'Lambdad', 'LazyTrait', 'LazyTransform', 'LoadImage', 'LoadImageD', 'LoadImageDict', 'LoadImaged', 'MapLabelValue', 'MapLabelValueD', 'MapLabelValueDict', 'MapLabelValued', 'MapTransform', 'Mark', 'MarkD', 'MarkDict', 'Markd', 'MaskIntensity', 'MaskIntensityD', 'MaskIntensityDict', 'MaskIntensityd', 'MeanEnsemble', 'MeanEnsembleD', 'MeanEnsembleDict', 'MeanEnsembled', 'MedianSmooth', 'MedianSmoothD', 'MedianSmoothDict', 'MedianSmoothd', 'MixUp', 'MixUpD', 'MixUpDict', 'MixUpd', 'MultiSampleTrait', 'NormalizeIntensity', 'NormalizeIntensityD', 'NormalizeIntensityDict', 'NormalizeIntensityd', 'OneOf', 'Orientation', 'OrientationD', 'OrientationDict', 'Orientationd', 'Pad', 'PadD', 'PadDict', 'PadListDataCollate', 'Padd', 'ProbNMS', 'ProbNMSD', 'ProbNMSDict', 'ProbNMSd', 'Rand2DElastic', 'Rand2DElasticD', 'Rand2DElasticDict', 'Rand2DElasticd', 'Rand3DElastic', 'Rand3DElasticD', 'Rand3DElasticDict', 'Rand3DElasticd', 'RandAdjustContrast', 'RandAdjustContrastD', 'RandAdjustContrastDict', 'RandAdjustContrastd', 'RandAffine', 'RandAffineD', 'RandAffineDict', 'RandAffineGrid', 'RandAffined', 'RandAxisFlip', 'RandAxisFlipD', 'RandAxisFlipDict', 'RandAxisFlipd', 'RandBiasField', 'RandBiasFieldD', 'RandBiasFieldDict', 'RandBiasFieldd', 'RandCoarseDropout', 'RandCoarseDropoutD', 'RandCoarseDropoutDict', 'RandCoarseDropoutd', 'RandCoarseShuffle', 'RandCoarseShuffleD', 'RandCoarseShuffleDict', 'RandCoarseShuffled', 'RandCoarseTransform', 'RandCropByLabelClasses', 'RandCropByLabelClassesD', 'RandCropByLabelClassesDict', 'RandCropByLabelClassesd', 'RandCropByPosNegLabel', 'RandCropByPosNegLabelD', 'RandCropByPosNegLabelDict', 'RandCropByPosNegLabeld', 'RandCropD', 'RandCropDict', 'RandCropd', 'RandCuCIM', 'RandCuCIMD', 'RandCuCIMDict', 'RandCuCIMd', 'RandDeformGrid', 'RandFlip', 'RandFlipD', 'RandFlipDict', 'RandFlipd', 'RandGaussianNoise', 'RandGaussianNoiseD', 'RandGaussianNoiseDict', 'RandGaussianNoised', 'RandGaussianSharpen', 'RandGaussianSharpenD', 'RandGaussianSharpenDict', 'RandGaussianSharpend', 'RandGaussianSmooth', 'RandGaussianSmoothD', 'RandGaussianSmoothDict', 'RandGaussianSmoothd', 'RandGibbsNoise', 'RandGibbsNoiseD', 'RandGibbsNoiseDict', 'RandGibbsNoised', 'RandGridDistortion', 'RandGridDistortionD', 'RandGridDistortionDict', 'RandGridDistortiond', 'RandGridPatch', 'RandGridPatchD', 'RandGridPatchDict', 'RandGridPatchd', 'RandHistogramShift', 'RandHistogramShiftD', 'RandHistogramShiftDict', 'RandHistogramShiftd', 'RandIdentity', 'RandImageFilter', 'RandImageFilterD', 'RandImageFilterDict', 'RandImageFilterd', 'RandIntensityRemap', 'RandKSpaceSpikeNoise', 'RandKSpaceSpikeNoiseD', 'RandKSpaceSpikeNoiseDict', 'RandKSpaceSpikeNoised', 'RandLambda', 'RandLambdaD', 'RandLambdaDict', 'RandLambdad', 'RandMark', 'RandMarkD', 'RandMarkDict', 'RandMarkd', 'RandRangePop', 'RandRangePopD', 'RandRangePopDict', 'RandRangePopd', 'RandRangePush', 'RandRangePushD', 'RandRangePushDict', 'RandRangePushd', 'RandRicianNoise', 'RandRicianNoiseD', 'RandRicianNoiseDict', 'RandRicianNoised', 'RandRotate', 'RandRotate90', 'RandRotate90D', 'RandRotate90Dict', 'RandRotate90d', 'RandRotateD', 'RandRotateDict', 'RandRotated', 'RandScaleCrop', 'RandScaleCropD', 'RandScaleCropDict', 'RandScaleCropd', 'RandScaleIntensity', 'RandScaleIntensityD', 'RandScaleIntensityDict', 'RandScaleIntensityFixedMean', 'RandScaleIntensityFixedMeanD', 'RandScaleIntensityFixedMeanDict', 'RandScaleIntensityFixedMeand', 'RandScaleIntensityd', 'RandShiftIntensity', 'RandShiftIntensityD', 'RandShiftIntensityDict', 'RandShiftIntensityd', 'RandSimulateLowResolution', 'RandSimulateLowResolutionD', 'RandSimulateLowResolutionDict', 'RandSimulateLowResolutiond', 'RandSmoothDeform', 'RandSmoothDeformD', 'RandSmoothDeformDict', 'RandSmoothDeformd', 'RandSmoothFieldAdjustContrast', 'RandSmoothFieldAdjustContrastD', 'RandSmoothFieldAdjustContrastDict', 'RandSmoothFieldAdjustContrastd', 'RandSmoothFieldAdjustIntensity', 'RandSmoothFieldAdjustIntensityD', 'RandSmoothFieldAdjustIntensityDict', 'RandSmoothFieldAdjustIntensityd', 'RandSpatialCrop', 'RandSpatialCropD', 'RandSpatialCropDict', 'RandSpatialCropSamples', 'RandSpatialCropSamplesD', 'RandSpatialCropSamplesDict', 'RandSpatialCropSamplesd', 'RandSpatialCropd', 'RandStdShiftIntensity', 'RandStdShiftIntensityD', 'RandStdShiftIntensityDict', 'RandStdShiftIntensityd', 'RandTorchVisionD', 'RandTorchVisionDict', 'RandTorchVisiond', 'RandWeightedCrop', 'RandWeightedCropD', 'RandWeightedCropDict', 'RandWeightedCropd', 'RandZoom', 'RandZoomD', 'RandZoomDict', 'RandZoomd', 'RandomOrder', 'Randomizable', 'RandomizableTrait', 'RandomizableTransform', 'RangePop', 'RangePopD', 'RangePopDict', 'RangePopd', 'RangePush', 'RangePushD', 'RangePushDict', 'RangePushd', 'RemoveRepeatedChannel', 'RemoveRepeatedChannelD', 'RemoveRepeatedChannelDict', 'RemoveRepeatedChanneld', 'RemoveSmallObjects', 'RemoveSmallObjectsD', 'RemoveSmallObjectsDict', 'RemoveSmallObjectsd', 'RepeatChannel', 'RepeatChannelD', 'RepeatChannelDict', 'RepeatChanneld', 'Resample', 'ResampleToMatch', 'ResampleToMatchD', 'ResampleToMatchDict', 'ResampleToMatchd', 'Resize', 'ResizeD', 'ResizeDict', 'ResizeWithPadOrCrop', 'ResizeWithPadOrCropD', 'ResizeWithPadOrCropDict', 'ResizeWithPadOrCropd', 'Resized', 'Rotate', 'Rotate90', 'Rotate90D', 'Rotate90Dict', 'Rotate90d', 'RotateD', 'RotateDict', 'Rotated', 'SUPPORTED_READERS', 'SaveClassificationD', 'SaveClassificationDict', 'SaveClassificationd', 'SaveImage', 'SaveImageD', 'SaveImageDict', 'SaveImaged', 'SavitzkyGolaySmooth', 'SavitzkyGolaySmoothD', 'SavitzkyGolaySmoothDict', 'SavitzkyGolaySmoothd', 'ScaleIntensity', 'ScaleIntensityD', 'ScaleIntensityDict', 'ScaleIntensityFixedMean', 'ScaleIntensityRange', 'ScaleIntensityRangeD', 'ScaleIntensityRangeDict', 'ScaleIntensityRangePercentiles', 'ScaleIntensityRangePercentilesD', 'ScaleIntensityRangePercentilesDict', 'ScaleIntensityRangePercentilesd', 'ScaleIntensityRanged', 'ScaleIntensityd', 'SelectItemsD', 'SelectItemsDict', 'SelectItemsd', 'ShiftIntensity', 'ShiftIntensityD', 'ShiftIntensityDict', 'ShiftIntensityd', 'SignalContinuousWavelet', 'SignalFillEmpty', 'SignalFillEmptyD', 'SignalFillEmptyDict', 'SignalFillEmptyd', 'SignalRandAddGaussianNoise', 'SignalRandAddSine', 'SignalRandAddSinePartial', 'SignalRandAddSquarePulse', 'SignalRandAddSquarePulsePartial', 'SignalRandDrop', 'SignalRandScale', 'SignalRandShift', 'SignalRemoveFrequency', 'SimulateDelay', 'SimulateDelayD', 'SimulateDelayDict', 'SimulateDelayd', 'SmoothField', 'SobelGradients', 'SobelGradientsD', 'SobelGradientsDict', 'SobelGradientsd', 'SomeOf', 'Spacing', 'SpacingD', 'SpacingDict', 'Spacingd', 'SpatialCrop', 'SpatialCropD', 'SpatialCropDict', 'SpatialCropd', 'SpatialPad', 'SpatialPadD', 'SpatialPadDict', 'SpatialPadd', 'SpatialResample', 'SpatialResampleD', 'SpatialResampleDict', 'SpatialResampled', 'SplitDim', 'SplitDimD', 'SplitDimDict', 'SplitDimd', 'SqueezeDim', 'SqueezeDimD', 'SqueezeDimDict', 'SqueezeDimd', 'StdShiftIntensity', 'StdShiftIntensityD', 'StdShiftIntensityDict', 'StdShiftIntensityd', 'ThreadUnsafe', 'ThresholdIntensity', 'ThresholdIntensityD', 'ThresholdIntensityDict', 'ThresholdIntensityd', 'ToCupy', 'ToCupyD', 'ToCupyDict', 'ToCupyd', 'ToDevice', 'ToDeviceD', 'ToDeviceDict', 'ToDeviced', 'ToMetaTensorD', 'ToMetaTensorDict', 'ToMetaTensord', 'ToNumpy', 'ToNumpyD', 'ToNumpyDict', 'ToNumpyd', 'ToPIL', 'ToPILD', 'ToPILDict', 'ToPILd', 'ToTensor', 'ToTensorD', 'ToTensorDict', 'ToTensord', 'TorchVision', 'TorchVisionD', 'TorchVisionDict', 'TorchVisiond', 'TraceableTransform', 'Transform', 'Transpose', 'TransposeD', 'TransposeDict', 'Transposed', 'UltrasoundConfidenceMapTransform', 'VoteEnsemble', 'VoteEnsembleD', 'VoteEnsembleDict', 'VoteEnsembled', 'WriteFileMapping', 'WriteFileMappingD', 'WriteFileMappingDict', 'WriteFileMappingd', 'Zoom', 'ZoomD', 'ZoomDict', 'Zoomd', '__builtins__', '__cached__', '__doc__', '__file__', '__loader__', '__name__', '__package__', '__path__', '__spec__', 'adaptor', 'adaptors', 'allclose', 'allow_missing_keys_mode', 'annotations', 'any_np_pt', 'apply_alias', 'apply_pending', 'apply_transform', 'ascontiguousarray', 'attach_hook', 'check_non_lazy_pending_ops', 'clip', 'combine_transforms', 'compose', 'compute_divisible_spatial_size', 'concatenate', 'convert_applied_interp_mode', 'convert_pad_mode', 'convert_to_contiguous', 'copypaste_arrays', 'create_control_grid', 'create_grid', 'create_rotate', 'create_scale', 'create_shear', 'create_translate', 'crop_func', 'crop_or_pad_nd', 'croppad', 'cumsum', 'dilate', 'distance_transform_edt', 'equalize_hist', 'erode', 'extreme_points_to_image', 'floor_divide', 'generate_label_classes_crop_centers', 'generate_pos_neg_label_crop_centers', 'generate_spatial_bounding_box', 'get_extreme_points', 'get_largest_connected_component_mask', 'get_number_image_type_conversions', 'get_transform_backends', 'img_bounds', 'in1d', 'in_bounds', 'intensity', 'inverse', 'inverse_batch_transform', 'io', 'is_empty', 'is_positive', 'isfinite', 'isnan', 'lazy', 'map_and_generate_sampling_centers', 'map_binary_to_indices', 'map_classes_to_indices', 'map_spatial_axes', 'maximum', 'meta_utility', 'mode', 'moveaxis', 'nonzero', 'nvtx', 'pad_func', 'pad_nd', 'percentile', 'post', 'print_transform_backends', 'rand_choice', 'ravel', 'regularization', 'remove_small_objects', 'repeat', 'resample', 'rescale_array', 'rescale_array_int_max', 'rescale_instance_array', 'reset_ops_id', 'resize_center', 'resolves_modes', 'signal', 'smooth_field', 'spatial', 'spatial_resample', 'stack', 'sync_meta_info', 'to_kwargs', 'traits', 'transform', 'unravel_index', 'utility', 'utils', 'utils_create_transform_ims', 'utils_morphological_ops', 'utils_pytorch_numpy_unification', 'weighted_patch_samples', 'where', 'zero_margins']\n"
     ]
    }
   ],
   "source": [
    "import monai.transforms as mt\n",
    "print(dir(mt))"
   ]
  },
  {
   "cell_type": "code",
   "execution_count": null,
   "metadata": {},
   "outputs": [
    {
     "ename": "ImportError",
     "evalue": "cannot import name 'TrainType' from 'monailabel' (/opt/anaconda3/envs/cvproj310/lib/python3.10/site-packages/monailabel/__init__.py)",
     "output_type": "error",
     "traceback": [
      "\u001b[0;31m---------------------------------------------------------------------------\u001b[0m",
      "\u001b[0;31mImportError\u001b[0m                               Traceback (most recent call last)",
      "Cell \u001b[0;32mIn[3], line 1\u001b[0m\n\u001b[0;32m----> 1\u001b[0m \u001b[38;5;28;01mfrom\u001b[39;00m\u001b[38;5;250m \u001b[39m\u001b[38;5;21;01mmonailabel\u001b[39;00m\u001b[38;5;250m \u001b[39m\u001b[38;5;28;01mimport\u001b[39;00m TrainType\n\u001b[1;32m      2\u001b[0m \u001b[38;5;28mprint\u001b[39m(\u001b[38;5;124m\"\u001b[39m\u001b[38;5;124mImport di TrainType riuscito!\u001b[39m\u001b[38;5;124m\"\u001b[39m)\n",
      "\u001b[0;31mImportError\u001b[0m: cannot import name 'TrainType' from 'monailabel' (/opt/anaconda3/envs/cvproj310/lib/python3.10/site-packages/monailabel/__init__.py)"
     ]
    }
   ],
   "source": [
    "from monailabel import TrainType\n",
    "print(\"Import di TrainType riuscito!\")"
   ]
  },
  {
   "cell_type": "code",
   "execution_count": 4,
   "metadata": {},
   "outputs": [
    {
     "name": "stdout",
     "output_type": "stream",
     "text": [
      "['PY_REQUIRED_MAJOR', 'PY_REQUIRED_MINOR', '__basedir__', '__builtins__', '__cached__', '__copyright__', '__doc__', '__file__', '__loader__', '__name__', '__package__', '__path__', '__revision_id__', '__spec__', '__version__', '_version', 'os', 'print_config', 'sys']\n"
     ]
    }
   ],
   "source": [
    "import monailabel as gg\n",
    "print(dir(gg))"
   ]
  },
  {
   "cell_type": "code",
   "execution_count": null,
   "metadata": {},
   "outputs": [],
   "source": []
  }
 ],
 "metadata": {
  "kernelspec": {
   "display_name": "cvproj310",
   "language": "python",
   "name": "python3"
  },
  "language_info": {
   "codemirror_mode": {
    "name": "ipython",
    "version": 3
   },
   "file_extension": ".py",
   "mimetype": "text/x-python",
   "name": "python",
   "nbconvert_exporter": "python",
   "pygments_lexer": "ipython3",
   "version": "3.10.16"
  }
 },
 "nbformat": 4,
 "nbformat_minor": 2
}
