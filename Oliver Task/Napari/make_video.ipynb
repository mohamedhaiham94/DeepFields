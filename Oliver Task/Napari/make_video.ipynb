{
 "cells": [
  {
   "cell_type": "code",
   "execution_count": 1,
   "metadata": {},
   "outputs": [
    {
     "name": "stdout",
     "output_type": "stream",
     "text": [
      "Video salvato come 'videos/pred_mask_1_video.avi'\n"
     ]
    }
   ],
   "source": [
    "import os\n",
    "import cv2\n",
    "import tifffile\n",
    "import numpy as np\n",
    "\n",
    "IMAGES_DIR = \"pred_mask_1\"                     # Folder with mask 0-1-3\n",
    "VIDEO_NAME = \"videos/pred_mask_1_video.avi\"    # Output file\n",
    "FPS = 5                                        # FPS \n",
    "N_FRAMES = 100                                 # from 0 to 99\n",
    "\n",
    "def main():\n",
    "    video_writer = None\n",
    "\n",
    "    for i in range(N_FRAMES):\n",
    "        fname = f\"variance_image_{i}_min_grayscale.tiff\"\n",
    "        fpath = os.path.join(IMAGES_DIR, fname)\n",
    "\n",
    "        if not os.path.exists(fpath):\n",
    "            print(f\"[AVVISO] File non trovato: {fpath}\")\n",
    "            continue\n",
    "\n",
    "        mask = tifffile.imread(fpath)  # uint8 with values [0,1,3]\n",
    "\n",
    "        # Imagine b&w\n",
    "        #   3 -> 0 (back)\n",
    "        #   1 -> 255 (white)\n",
    "        mask_vis = np.zeros_like(mask, dtype=np.uint8)\n",
    "\n",
    "        mask_vis[mask == 1] = 255\n",
    "        mask_vis[mask == 3] = 0\n",
    "\n",
    "        h, w = mask_vis.shape\n",
    "\n",
    "        if video_writer is None:\n",
    "            fourcc = cv2.VideoWriter_fourcc(*'XVID')\n",
    "            # isColor=False => video in scala di grigi\n",
    "            video_writer = cv2.VideoWriter(VIDEO_NAME, fourcc, FPS, (w, h), 0)\n",
    "\n",
    "        video_writer.write(mask_vis)\n",
    "\n",
    "    if video_writer is not None:\n",
    "        video_writer.release()\n",
    "        print(f\"Video salvato come '{VIDEO_NAME}'\")\n",
    "    else:\n",
    "        print(\"Nessun frame processato. Controlla cartella e nomi file.\")\n",
    "\n",
    "if __name__ == \"__main__\":\n",
    "    main()\n"
   ]
  },
  {
   "cell_type": "code",
   "execution_count": null,
   "metadata": {},
   "outputs": [],
   "source": []
  }
 ],
 "metadata": {
  "kernelspec": {
   "display_name": "cvproj310",
   "language": "python",
   "name": "python3"
  },
  "language_info": {
   "codemirror_mode": {
    "name": "ipython",
    "version": 3
   },
   "file_extension": ".py",
   "mimetype": "text/x-python",
   "name": "python",
   "nbconvert_exporter": "python",
   "pygments_lexer": "ipython3",
   "version": "3.10.16"
  }
 },
 "nbformat": 4,
 "nbformat_minor": 2
}
