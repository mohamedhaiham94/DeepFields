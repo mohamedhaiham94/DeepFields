{
 "cells": [
  {
   "cell_type": "markdown",
   "metadata": {},
   "source": [
    "- Think about different model per layer --> so think about the possibility of the depth \n",
    "1) use AGB dataset (easier to get in-out focus) but applies the label into the variance \n",
    "2) way of integrate into the napari (maybe scripts)\n",
    "3) Think about the 3D \n",
    "- Think about the \"shape\" not only about the single pixel --> information missing i.e. shape/size of the in-focus"
   ]
  },
  {
   "cell_type": "markdown",
   "metadata": {},
   "source": []
  }
 ],
 "metadata": {
  "language_info": {
   "name": "python"
  }
 },
 "nbformat": 4,
 "nbformat_minor": 2
}
